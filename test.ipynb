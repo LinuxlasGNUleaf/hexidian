{
 "cells": [
  {
   "cell_type": "code",
   "execution_count": 21,
   "metadata": {},
   "outputs": [
    {
     "name": "stdout",
     "output_type": "stream",
     "text": [
      "{\"action\": \"messagecount\", \"queuelength\": 28}\n",
      "Noch 28 Events abzuarbeiten\n",
      "{'id': 118, 'timestamp': 1697183454.17641, 'type': 'SYNC_STARTED', 'data': {}}\n",
      "<Response [200]>\n",
      "{'id': 119, 'timestamp': 1697183454.182437, 'type': 'UPDATE_EXTENSION', 'data': {'number': '1009', 'name': '', 'location': '', 'announcement_lang': 'de-DE', 'ringback_tone': '', 'call_waiting': True, 'allow_dialout': False, 'type': 'DECT', 'token': '70386242', 'useEncryption': False, 'displayModus': 'NUMBER_NAME'}}\n",
      "<Response [200]>\n",
      "{'id': 120, 'timestamp': 1697183454.189543, 'type': 'SYNC_ENDED', 'data': {}}\n",
      "<Response [200]>\n",
      "{'id': 121, 'timestamp': 1697183490.084925, 'type': 'RENAME_EXTENSION', 'data': {'old_extension': '1009', 'new_extension': '1002'}}\n",
      "<Response [200]>\n",
      "{'id': 122, 'timestamp': 1697183490.089075, 'type': 'UPDATE_EXTENSION', 'data': {'number': '1002', 'name': '', 'location': '', 'announcement_lang': 'de-DE', 'ringback_tone': '', 'call_waiting': True, 'allow_dialout': False, 'type': 'DECT', 'token': '70386242', 'useEncryption': False, 'displayModus': 'NUMBER_NAME'}}\n",
      "<Response [200]>\n",
      "{'id': 123, 'timestamp': 1697183519.157015, 'type': 'RENAME_EXTENSION', 'data': {'old_extension': '1002', 'new_extension': '1006'}}\n",
      "<Response [200]>\n",
      "{'id': 124, 'timestamp': 1697183519.161128, 'type': 'UPDATE_EXTENSION', 'data': {'number': '1006', 'name': '', 'location': '', 'announcement_lang': 'de-DE', 'ringback_tone': '', 'call_waiting': True, 'allow_dialout': False, 'type': 'DECT', 'token': '70386242', 'useEncryption': False, 'displayModus': 'NUMBER_NAME'}}\n",
      "<Response [200]>\n",
      "{'id': 125, 'timestamp': 1697183662.417942, 'type': 'RENAME_EXTENSION', 'data': {'old_extension': '1006', 'new_extension': '1007'}}\n",
      "<Response [200]>\n",
      "{'id': 126, 'timestamp': 1697183662.422082, 'type': 'UPDATE_EXTENSION', 'data': {'number': '1007', 'name': '', 'location': '', 'announcement_lang': 'de-DE', 'ringback_tone': '', 'call_waiting': True, 'allow_dialout': False, 'type': 'DECT', 'token': '70386242', 'useEncryption': False, 'displayModus': 'NUMBER_NAME'}}\n",
      "<Response [200]>\n",
      "{'id': 127, 'timestamp': 1697183667.397451, 'type': 'RENAME_EXTENSION', 'data': {'old_extension': '1007', 'new_extension': '10078'}}\n",
      "<Response [200]>\n"
     ]
    }
   ],
   "source": [
    "import websocket\n",
    "import json\n",
    "import requests\n",
    "\n",
    "apikey = \"1$vpUKwsSCbZoZ3snjrDLXoXiYVCFPR7MoIq8c5GreufH5RuP6NoVWIEMVhROlAcbo\"\n",
    "domain = \"guru3.hackwerk.fun\"\n",
    "rest_url = 'https://'+domain+'/api/event/1/messages'\n",
    "\n",
    "# Get Notification for change over WebSocket in Format: {\"action\": \"messagecount\", \"queuelength\": 28}\n",
    "def getTasks(message):\n",
    "    print(message)\n",
    "    js = json.loads(message) \n",
    "    if js['action'] != \"messagecount\":     \n",
    "        raise Exception(\"Unknown message format\")\n",
    "    print(\"Noch \"+str(js['queuelength'])+\" Events abzuarbeiten\")\n",
    "\n",
    "    # Get Events from Rest-API (Max: 10)\n",
    "    events = json.loads(requests.get(rest_url, headers={'ApiKey': apikey}).content)\n",
    "    events_done = []\n",
    "    for event in events:\n",
    "        print(event)\n",
    "        # Do stuff\n",
    "        # Mark Event as done in Guru3\n",
    "        payload = \"-----011000010111000001101001\\r\\nContent-Disposition: form-data; name=\\\"acklist\\\"\\r\\n\\r\\n[69]\\r\\n-----011000010111000001101001--\\r\\n\\r\\n\"\n",
    "        print(requests.post(rest_url, headers={'ApiKey': apikey, \"Content-Type\": \"multipart/form-data; boundary=---011000010111000001101001\"}, data=payload))\n",
    "    \n",
    "\n",
    "def on_message(wsapp, message): \n",
    "    getTasks(message)\n",
    "\n",
    "message = '{\"action\": \"messagecount\", \"queuelength\": 28}'\n",
    "getTasks(message)\n",
    "wsapp = websocket.WebSocketApp(\"wss://\"+domain+\"/status/stream/\", header={\"ApiKey\": apikey}, on_message=on_message)\n",
    "#wsapp.run_forever()"
   ]
  }
 ],
 "metadata": {
  "kernelspec": {
   "display_name": "Python 3",
   "language": "python",
   "name": "python3"
  },
  "language_info": {
   "codemirror_mode": {
    "name": "ipython",
    "version": 3
   },
   "file_extension": ".py",
   "mimetype": "text/x-python",
   "name": "python",
   "nbconvert_exporter": "python",
   "pygments_lexer": "ipython3",
   "version": "3.12.0"
  }
 },
 "nbformat": 4,
 "nbformat_minor": 2
}
